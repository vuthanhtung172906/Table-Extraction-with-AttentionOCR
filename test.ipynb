{
 "metadata": {
  "language_info": {
   "codemirror_mode": {
    "name": "ipython",
    "version": 3
   },
   "file_extension": ".py",
   "mimetype": "text/x-python",
   "name": "python",
   "nbconvert_exporter": "python",
   "pygments_lexer": "ipython3",
   "version": "3.7.6"
  },
  "orig_nbformat": 2,
  "kernelspec": {
   "name": "python376jvsc74a57bd0296ed93f7c8d05dfe47df774ad5f7dee7c3d4935eacc9d3ead102043b8a6b3f9",
   "display_name": "Python 3.7.6 64-bit ('base': conda)"
  }
 },
 "nbformat": 4,
 "nbformat_minor": 2,
 "cells": [
  {
   "cell_type": "code",
   "execution_count": 1,
   "metadata": {},
   "outputs": [],
   "source": [
    "import cv2\n",
    "from PIL import Image, ImageEnhance\n",
    "import numpy as np \n",
    "from matplotlib import pyplot as plt \n",
    "from craft_text_detector import read_image, load_craftnet_model, load_refinenet_model, get_prediction, export_detected_regions, empty_cuda_cache\n",
    "from vietocr.tool.predictor import Predictor\n",
    "from vietocr.tool.config import Cfg\n",
    "import crop_img "
   ]
  },
  {
   "cell_type": "code",
   "execution_count": 2,
   "metadata": {},
   "outputs": [],
   "source": [
    "def group_h_lines(h_lines, thin_thresh):\n",
    "    new_h_lines = []\n",
    "    while len(h_lines) > 0:\n",
    "        thresh = sorted(h_lines, key=lambda x: x[0][1])[0][0]\n",
    "        lines = [line for line in h_lines if thresh[1] -\n",
    "                 thin_thresh <= line[0][1] <= thresh[1] + thin_thresh]\n",
    "        h_lines = [line for line in h_lines if thresh[1] - thin_thresh >\n",
    "                   line[0][1] or line[0][1] > thresh[1] + thin_thresh]\n",
    "        x = []\n",
    "        for line in lines:\n",
    "            x.append(line[0][0])\n",
    "            x.append(line[0][2])\n",
    "        x_min, x_max = min(x) - int(5*thin_thresh), max(x) + int(5*thin_thresh)\n",
    "        new_h_lines.append([x_min, thresh[1], x_max, thresh[1]])\n",
    "    return new_h_lines\n",
    "def group_v_lines(v_lines, thin_thresh, img):\n",
    "    new_v_lines = []\n",
    "    while len(v_lines) > 0:\n",
    "        thresh = sorted(v_lines, key=lambda x: x[0][0])[0][0]\n",
    "        lines = [line for line in v_lines if thresh[0] -\n",
    "                 thin_thresh <= line[0][0] <= thresh[0] + thin_thresh]\n",
    "        v_lines = [line for line in v_lines if thresh[0] - thin_thresh >\n",
    "                   line[0][0] or line[0][0] > thresh[0] + thin_thresh]\n",
    "        y = []\n",
    "        for line in lines:\n",
    "            y.append(line[0][1])\n",
    "            y.append(line[0][3])\n",
    "        y_min, y_max = min(y) - int(4*thin_thresh), max(y) + int(4*thin_thresh)\n",
    "        if y_max-y_min >= img.shape[0]-10:\n",
    "            new_v_lines.append([thresh[0], y_min, thresh[0], y_max])\n",
    "    return new_v_lines\n",
    "\n",
    "def processImg(img):\n",
    "    img = crop_img.crop_imgFunc(img)\n",
    "    gray = cv2.cvtColor(img, cv2.COLOR_BGR2GRAY)\n",
    "    thresh , img_bin = cv2.threshold(gray , 90 , 255 , cv2.THRESH_BINARY | cv2.THRESH_OTSU)\n",
    "    img_bin = 255-img_bin\n",
    "    kernel_len = gray.shape[1]//120\n",
    "    hor_kernel = cv2.getStructuringElement(cv2.MORPH_RECT, (kernel_len, 1))\n",
    "    image_horizontal = cv2.erode(img_bin, hor_kernel, iterations=3)\n",
    "    horizontal_lines = cv2.dilate(image_horizontal, hor_kernel, iterations=3)\n",
    "    h_lines = cv2.HoughLinesP(\n",
    "        horizontal_lines, 1, np.pi/180, 100, maxLineGap=250)\n",
    "\n",
    "    new_horizontal_lines = group_h_lines(h_lines, kernel_len)\n",
    "    for i in range(len(new_horizontal_lines)):\n",
    "        cv2.line(img,(new_horizontal_lines[i][0], new_horizontal_lines[i][1]), (new_horizontal_lines[i][2], new_horizontal_lines[i][3]),(0, 255, 0), 1)\n",
    "\n",
    "    kernel_len = gray.shape[1]//120\n",
    "    ver_kernel = cv2.getStructuringElement(cv2.MORPH_RECT, (1, kernel_len))\n",
    "    image_vertical = cv2.erode(img_bin, ver_kernel, iterations=3)\n",
    "    vertical_lines = cv2.dilate(image_vertical, ver_kernel, iterations=3)\n",
    "    v_lines = cv2.HoughLinesP(vertical_lines, 1, np.pi/180, 30, maxLineGap=250)\n",
    "    new_vertical_lines = group_v_lines(v_lines, kernel_len, img)\n",
    "    for i in range(len(new_vertical_lines)):\n",
    "        cv2.line(img,(new_vertical_lines[i][0], new_vertical_lines[i][1]), (new_vertical_lines[i][2], new_vertical_lines[i][3]),(0, 255, 0), 1)\n",
    "    def seg_intersect(line1: list, line2: list):\n",
    "        a1, a2 = line1\n",
    "        b1, b2 = line2\n",
    "        da = a2-a1\n",
    "        db = b2-b1\n",
    "        dp = a1-b1\n",
    "\n",
    "        def perp(a):\n",
    "            b = np.empty_like(a)\n",
    "            b[0] = -a[1]\n",
    "            b[1] = a[0]\n",
    "            return b\n",
    "\n",
    "        dap = perp(da)\n",
    "        denom = np.dot(dap, db)\n",
    "        num = np.dot(dap, dp)\n",
    "        return (num / denom.astype(float))*db + b1\n",
    "    points = []\n",
    "    for hline in new_horizontal_lines:\n",
    "        x1A, y1A, x2A, y2A = hline\n",
    "        for vline in new_vertical_lines:\n",
    "            x1B, y1B, x2B, y2B = vline\n",
    "\n",
    "            line1 = [np.array([x1A, y1A]), np.array([x2A, y2A])]\n",
    "            line2 = [np.array([x1B, y1B]), np.array([x2B, y2B])]\n",
    "\n",
    "            x, y = seg_intersect(line1, line2)\n",
    "            if x1A <= x <= x2A and y1B <= y <= y2B:\n",
    "                points.append([int(x), int(y)])\n",
    "    cells = []\n",
    "    for i in range(len(points)):\n",
    "        if (i+1) % 6 == 0:\n",
    "            continue\n",
    "        if (i+6) == len(points):\n",
    "            break\n",
    "        cells.append([points[i],points[i+1], points[i+6], points[i+7]])\n",
    "    return cells,img"
   ]
  },
  {
   "cell_type": "code",
   "execution_count": 3,
   "metadata": {},
   "outputs": [],
   "source": [
    "def load_model():\n",
    "    refine_net = load_refinenet_model(cuda=True)\n",
    "    craft_net = load_craftnet_model(cuda=True)\n",
    "    ##& VietOCR \n",
    "    # set device to use cpu\n",
    "    config1 = Cfg.load_config_from_name('vgg_seq2seq')\n",
    "    config2 = Cfg.load_config_from_file('config.yml')\n",
    "    config1['cnn']['pretrained']=False\n",
    "    config2['cnn']['pretrained']=False\n",
    "    config2['weights'] = './weights/transformerocr.pth'\n",
    "    detector2 = Predictor(config2)\n",
    "    detector1 = Predictor(config1)  \n",
    "    return detector1,detector2,refine_net,craft_net\n",
    "def predict(img,detector1,detector2,refine_net,craft_net):\n",
    "    cells,img = processImg(img)\n",
    "    result2 = []\n",
    "    for id,cell in enumerate(cells):\n",
    "        if id>5 and (id+1)%5 ==0:\n",
    "            x_min = cell[0][0] ## Top \n",
    "            x_max = cell[3][0] ##Right\n",
    "            y_min = cell[0][1] \n",
    "            y_max = cell[3][1] + 10\n",
    "            cell_image = img[y_min:y_max, x_min:x_max]\n",
    "            img_text = Image.fromarray(cell_image)\n",
    "            result = detector2.predict(img_text)\n",
    "            result2.append(result)\n",
    "        else:\n",
    "            x_min = cell[0][0] ## Top \n",
    "            x_max = cell[3][0] ##Right\n",
    "            y_min = cell[0][1] \n",
    "            y_max = cell[3][1]\n",
    "            cell_image = img[y_min:y_max, x_min:x_max]\n",
    "            prediction_result= get_prediction(\n",
    "            image=cell_image,\n",
    "            craft_net=craft_net,\n",
    "            refine_net=refine_net,\n",
    "            text_threshold=0.7,\n",
    "            link_threshold=0.4,\n",
    "            low_text=0.4,\n",
    "            cuda=True,\n",
    "            long_size=1280\n",
    "            )\n",
    "            arr = prediction_result['boxes'].transpose(2,0,1).reshape(2,-1)\n",
    "            x_min = int(arr[0][np.argmin(arr,axis=1)[0]])\n",
    "            y_min = int(arr[1][np.argmin(arr,axis=1)[1]])\n",
    "            x_max = int(arr[0][np.argmax(arr,axis=1)[0]])\n",
    "            y_max = int(arr[1][np.argmax(arr,axis=1)[1]])\n",
    "            text_image = cell_image[y_min:y_max, x_min:x_max]\n",
    "            img_text = Image.fromarray(text_image)\n",
    "            # # # predict\n",
    "            result = detector1.predict(img_text)\n",
    "            result2.append(result)\n",
    "    return result2"
   ]
  },
  {
   "cell_type": "code",
   "execution_count": 4,
   "metadata": {},
   "outputs": [
    {
     "output_type": "stream",
     "name": "stdout",
     "text": [
      "File exists: /home/tung/.cache/gdown/https-COLON--SLASH--SLASH-drive.google.com-SLASH-uc-QUESTION-id-EQUAL-1nTKlEog9YFK74kPyX0qLwCWi60_YHHk4\n",
      "['STT', 'Mã SV', 'Họ và tên', 'Lớp SV', 'Điểm', '33', '20182548', 'Trần Hữu Minh Hoàng', 'Điện tử 03-K63', '3.0', '34', '20181506', 'Nguyễn Bá Phi Hùng', 'Tự động hóa 11-K63', '4.0', '35', '20151819', 'Phan Văn Hùng', 'Điện tử 03 K60', '7.0', '36', '20155765', 'Phan Văn Hùng', 'CN- ĐIỀU KHIỂN & TĐH 2 K60', '5.0', '37', '20155779', 'Bùi Văn Hưng', 'SPKT Kỹ thuật điện K60', '4.0', '38', '20173946', 'Đường Gia Hưng', 'Kỹ thuật điện 01 K62', '3.0', '39', '20151867', 'Nguyễn Trung Hưng', 'Điện tử 09 K60', '8.0', '40', '20142224', 'Nguyễn Thu Hương', 'Kinh tế công nghiệp 1 K59', '4.0', '41', '20161795', 'Đào Quốc Huy', 'Cơ khí động lực 2 K61', '4.0', '42', '20173955', 'Đỗ Quang Huy', 'KT ĐIỀU KHIỂN THH 09 K62', '4.5', '43', '20183340', 'Nguyễn Lâm Huy', 'Nhiệt 01-K63', '3.0', '44', '20161851', 'Phạm Công Huy', 'Kỹ thuật nhiệt 02-K61', '-', '45', '20161859', 'Trần Duy Huy', 'Kỹ thuật cơ khi 2 K61', '3.0', '46', '20181542', 'Lê Tú Khải', 'Tự động hóa 04-K63', '5.5', 'All', '20173200', 'Nguyễn Đăng Khoa', 'Khoa học máy tính 04-K62', '3.0', '48', '20164943', 'Nông Minh Khổng', 'CN- CTM 2 K61', '4.0', '49', '20152089', 'Dương Đình Kiệt', 'Môi trường 2 K60', '2.5', '50', '20173227', 'Nguyễn Thị Lan', 'Công nghệ thông tin 10-K62', '3.5']\n"
     ]
    }
   ],
   "source": [
    "detector1,detector2,refine_net,craft_net = load_model()\n",
    "img = cv2.imread('test/document-02.png')\n",
    "result = predict(img,detector1,detector2,refine_net,craft_net )\n",
    "print(result)"
   ]
  },
  {
   "cell_type": "code",
   "execution_count": 7,
   "metadata": {},
   "outputs": [
    {
     "output_type": "execute_result",
     "data": {
      "text/plain": [
       "numpy.ndarray"
      ]
     },
     "metadata": {},
     "execution_count": 7
    }
   ],
   "source": [
    "type(img)"
   ]
  },
  {
   "cell_type": "code",
   "execution_count": 5,
   "metadata": {},
   "outputs": [
    {
     "output_type": "error",
     "ename": "NameError",
     "evalue": "name 'result2' is not defined",
     "traceback": [
      "\u001b[0;31m---------------------------------------------------------------------------\u001b[0m",
      "\u001b[0;31mNameError\u001b[0m                                 Traceback (most recent call last)",
      "\u001b[0;32m<ipython-input-5-9b8bcd654e98>\u001b[0m in \u001b[0;36m<module>\u001b[0;34m\u001b[0m\n\u001b[0;32m----> 1\u001b[0;31m \u001b[0;32mfor\u001b[0m \u001b[0mi\u001b[0m \u001b[0;32min\u001b[0m \u001b[0mrange\u001b[0m\u001b[0;34m(\u001b[0m\u001b[0;36m0\u001b[0m\u001b[0;34m,\u001b[0m\u001b[0mlen\u001b[0m\u001b[0;34m(\u001b[0m\u001b[0mresult2\u001b[0m\u001b[0;34m)\u001b[0m\u001b[0;34m,\u001b[0m\u001b[0;36m5\u001b[0m\u001b[0;34m)\u001b[0m\u001b[0;34m:\u001b[0m\u001b[0;34m\u001b[0m\u001b[0;34m\u001b[0m\u001b[0m\n\u001b[0m\u001b[1;32m      2\u001b[0m     \u001b[0mresult\u001b[0m\u001b[0;34m.\u001b[0m\u001b[0mappend\u001b[0m\u001b[0;34m(\u001b[0m\u001b[0;34m[\u001b[0m\u001b[0mresult2\u001b[0m\u001b[0;34m[\u001b[0m\u001b[0mi\u001b[0m\u001b[0;34m]\u001b[0m\u001b[0;34m,\u001b[0m \u001b[0mresult2\u001b[0m\u001b[0;34m[\u001b[0m\u001b[0mi\u001b[0m\u001b[0;34m+\u001b[0m\u001b[0;36m1\u001b[0m\u001b[0;34m]\u001b[0m\u001b[0;34m,\u001b[0m\u001b[0mresult2\u001b[0m\u001b[0;34m[\u001b[0m\u001b[0mi\u001b[0m\u001b[0;34m+\u001b[0m\u001b[0;36m2\u001b[0m\u001b[0;34m]\u001b[0m\u001b[0;34m,\u001b[0m\u001b[0mresult2\u001b[0m\u001b[0;34m[\u001b[0m\u001b[0mi\u001b[0m\u001b[0;34m+\u001b[0m\u001b[0;36m3\u001b[0m\u001b[0;34m]\u001b[0m\u001b[0;34m,\u001b[0m\u001b[0mresult2\u001b[0m\u001b[0;34m[\u001b[0m\u001b[0mi\u001b[0m\u001b[0;34m+\u001b[0m\u001b[0;36m4\u001b[0m\u001b[0;34m]\u001b[0m\u001b[0;34m]\u001b[0m\u001b[0;34m)\u001b[0m\u001b[0;34m\u001b[0m\u001b[0;34m\u001b[0m\u001b[0m\n\u001b[1;32m      3\u001b[0m \u001b[0mprint\u001b[0m\u001b[0;34m(\u001b[0m\u001b[0mresult\u001b[0m\u001b[0;34m)\u001b[0m\u001b[0;34m\u001b[0m\u001b[0;34m\u001b[0m\u001b[0m\n",
      "\u001b[0;31mNameError\u001b[0m: name 'result2' is not defined"
     ]
    }
   ],
   "source": [
    "for i in range(0,len(result2),5):\n",
    "    result.append([result2[i], result2[i+1],result2[i+2],result2[i+3],result2[i+4]])\n",
    "print(result)  "
   ]
  },
  {
   "cell_type": "code",
   "execution_count": null,
   "metadata": {},
   "outputs": [],
   "source": []
  }
 ]
}